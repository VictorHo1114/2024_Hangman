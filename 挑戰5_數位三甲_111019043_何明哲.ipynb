{
  "cells": [
    {
      "cell_type": "code",
      "execution_count": null,
      "metadata": {
        "colab": {
          "background_save": true,
          "base_uri": "https://localhost:8080/"
        },
        "id": "PMXxY5FEzqYr",
        "outputId": "cae2f261-b82c-4e07-bc3c-2c56ecbe5be2"
      },
      "outputs": [
        {
          "name": "stdout",
          "output_type": "stream",
          "text": [
            "disgust\n",
            "歡迎來到Hangman，請猜出對的字，你有7次機會\n",
            "['_', '_', '_', '_', '_', '_', '_']\n",
            "沒有這個字\n",
            "你剩下 6 次\n",
            "\n",
            "  +---+\n",
            "  |   |\n",
            "      |\n",
            "      |\n",
            "      |\n",
            "      |\n",
            "=========\n",
            "['_', '_', '_', '_', '_', '_', '_']\n",
            "沒有這個字\n",
            "你剩下 5 次\n",
            "\n",
            "  +---+\n",
            "  |   |\n",
            "  O   |\n",
            "      |\n",
            "      |\n",
            "      |\n",
            "=========\n",
            "['_', '_', '_', '_', '_', '_', '_']\n",
            "沒有這個字\n",
            "你剩下 4 次\n",
            "\n",
            "  +---+\n",
            "  |   |\n",
            "  O   |\n",
            "  |   |\n",
            "      |\n",
            "      |\n",
            "=========\n",
            "['_', '_', '_', '_', '_', '_', '_']\n",
            "['d', '_', '_', '_', '_', '_', '_']\n"
          ]
        }
      ],
      "source": [
        "import random\n",
        "import hangman_pics\n",
        "wordlist = [\"joy\",\"sadness\",\"anger\",\"disgust\",\"fear\"] #題目List\n",
        "answer_box= []\n",
        "answer = random.choice(wordlist) #隨機從list中選一個詞\n",
        "pics = 0\n",
        "chance = 7 #對應我的六張圖，玩家固定7次機會\n",
        "\n",
        "print(answer) #答案\n",
        "print(\"歡迎來到Hangman，請猜出對的字，你有7次機會\")\n",
        "for _ in range(len(answer)):\n",
        "   answer_box.append(\"_\")  #依答案字母數目印製底線進answer_box\n",
        "print(answer_box)\n",
        "while chance>0:  #用while迴圈，chance!=0即可繼續遊戲\n",
        "  guess = input(\"輸入一個單字\").lower() #將玩家輸入轉成小寫\n",
        "  if guess in answer:  #先判斷輸入的字母是否在答案裡\n",
        "    for i in range(len(answer)):\n",
        "      if guess == answer[i]: #判斷輸入的字母是答案裡哪個字母\n",
        "        answer_box[i] = guess #將輸入的字母放到answer_box取代原來的底線\n",
        "    print(answer_box)\n",
        "    if \"_\" not in answer_box: #若answer_box內沒有底線，印出玩家贏了 且讓迴圈停止\n",
        "      print(\"You win\")\n",
        "      break\n",
        "  else:\n",
        "    print(\"沒有這個字\")\n",
        "    chance = chance-1\n",
        "    print(\"你剩下\",chance,\"次\")\n",
        "    print(hangman_pics.hangmanpics[pics]) #\n",
        "    pics = pics+1 #從第0張開始印到第6張\n",
        "    print(answer_box)\n",
        "else:\n",
        "  print(\"You Lose\") #chance迴圈結束，\n"
      ]
    }
  ],
  "metadata": {
    "colab": {
      "provenance": []
    },
    "kernelspec": {
      "display_name": "Python 3",
      "name": "python3"
    },
    "language_info": {
      "name": "python"
    }
  },
  "nbformat": 4,
  "nbformat_minor": 0
}